{
 "cells": [
  {
   "cell_type": "code",
   "execution_count": 1,
   "metadata": {},
   "outputs": [],
   "source": [
    "# Import necessary packages\n",
    "from langchain_groq import ChatGroq\n",
    "from langchain_community.tools.tavily_search import TavilySearchResults\n",
    "from langchain_core.messages import HumanMessage\n",
    "from langgraph.checkpoint.memory import MemorySaver\n",
    "from langgraph.prebuilt import create_react_agent\n",
    "import os"
   ]
  },
  {
   "cell_type": "code",
   "execution_count": 2,
   "metadata": {},
   "outputs": [],
   "source": [
    "# Initialize components\n",
    "def create_search_agent():\n",
    "    # Create memory for persistence\n",
    "    memory = MemorySaver()\n",
    "    \n",
    "    # Initialize the Groq model\n",
    "    model = ChatGroq(\n",
    "        model_name=\"mixtral-8x7b-32768\",\n",
    "        temperature=0.1,\n",
    "        max_tokens=4096\n",
    "    )\n",
    "    \n",
    "    # Set up the search tool\n",
    "    search = TavilySearchResults(max_results=2)\n",
    "    tools = [search]\n",
    "    \n",
    "    # Create the agent\n",
    "    agent_executor = create_react_agent(\n",
    "        model, \n",
    "        tools, \n",
    "        checkpointer=memory\n",
    "    )\n",
    "    \n",
    "    return agent_executor"
   ]
  },
  {
   "cell_type": "code",
   "execution_count": 3,
   "metadata": {},
   "outputs": [
    {
     "name": "stdout",
     "output_type": "stream",
     "text": [
      "{'agent': {'messages': [AIMessage(content=\"Hello Prashant, it's nice to meet you! I'm here to help answer any questions you have to the best of my ability. If I need to use a tool to find the information you're looking for, I will do so. However, if I can answer your question without using a tool, I will do that as well. Let me know how I can assist you today.\", additional_kwargs={}, response_metadata={'token_usage': {'completion_tokens': 84, 'prompt_tokens': 1212, 'total_tokens': 1296, 'completion_time': 0.128557565, 'prompt_time': 0.051471445, 'queue_time': 0.019978839000000005, 'total_time': 0.18002901}, 'model_name': 'mixtral-8x7b-32768', 'system_fingerprint': 'fp_c5f20b5bb1', 'finish_reason': 'stop', 'logprobs': None}, id='run-b134ef66-2534-4a5a-a6cc-36fc994e4632-0', usage_metadata={'input_tokens': 1212, 'output_tokens': 84, 'total_tokens': 1296})]}}\n",
      "----\n"
     ]
    }
   ],
   "source": [
    "def run_agent():\n",
    "    # Create the agent\n",
    "    agent = create_search_agent()\n",
    "    \n",
    "    # Configure thread for conversation memory\n",
    "    config = {\"configurable\": {\"thread_id\": \"conversation_1\"}}\n",
    "    \n",
    "    # Example interaction\n",
    "    messages = [\n",
    "        HumanMessage(content=\"he my name is prashant\")\n",
    "    ]\n",
    "    \n",
    "    # Stream the response\n",
    "    for chunk in agent.stream({\"messages\": messages}, config):\n",
    "        print(chunk)\n",
    "        print(\"----\")\n",
    "\n",
    "run_agent()"
   ]
  },
  {
   "cell_type": "code",
   "execution_count": 4,
   "metadata": {},
   "outputs": [
    {
     "name": "stdout",
     "output_type": "stream",
     "text": [
      "{'agent': {'messages': [AIMessage(content='', additional_kwargs={'tool_calls': [{'id': 'call_hrd2', 'function': {'arguments': '{\"query\":\"weather in mumbai\"}', 'name': 'tavily_search_results_json'}, 'type': 'function'}]}, response_metadata={'token_usage': {'completion_tokens': 100, 'prompt_tokens': 1213, 'total_tokens': 1313, 'completion_time': 0.153353712, 'prompt_time': 0.058124002, 'queue_time': 0.022851274999999997, 'total_time': 0.211477714}, 'model_name': 'mixtral-8x7b-32768', 'system_fingerprint': 'fp_c5f20b5bb1', 'finish_reason': 'tool_calls', 'logprobs': None}, id='run-d2fa2ecb-ab7f-418c-896c-870aae7c3927-0', tool_calls=[{'name': 'tavily_search_results_json', 'args': {'query': 'weather in mumbai'}, 'id': 'call_hrd2', 'type': 'tool_call'}], usage_metadata={'input_tokens': 1213, 'output_tokens': 100, 'total_tokens': 1313})]}}\n",
      "----\n",
      "{'tools': {'messages': [ToolMessage(content='[{\"url\": \"https://www.weatherapi.com/\", \"content\": \"{\\'location\\': {\\'name\\': \\'Mumbai\\', \\'region\\': \\'Maharashtra\\', \\'country\\': \\'India\\', \\'lat\\': 18.975, \\'lon\\': 72.826, \\'tz_id\\': \\'Asia/Kolkata\\', \\'localtime_epoch\\': 1738565703, \\'localtime\\': \\'2025-02-03 12:25\\'}, \\'current\\': {\\'last_updated_epoch\\': 1738565100, \\'last_updated\\': \\'2025-02-03 12:15\\', \\'temp_c\\': 28.0, \\'temp_f\\': 82.4, \\'is_day\\': 1, \\'condition\\': {\\'text\\': \\'Overcast\\', \\'icon\\': \\'//cdn.weatherapi.com/weather/64x64/day/122.png\\', \\'code\\': 1009}, \\'wind_mph\\': 10.5, \\'wind_kph\\': 16.9, \\'wind_degree\\': 316, \\'wind_dir\\': \\'NW\\', \\'pressure_mb\\': 1013.0, \\'pressure_in\\': 29.91, \\'precip_mm\\': 0.0, \\'precip_in\\': 0.0, \\'humidity\\': 37, \\'cloud\\': 0, \\'feelslike_c\\': 28.9, \\'feelslike_f\\': 83.9, \\'windchill_c\\': 26.3, \\'windchill_f\\': 79.3, \\'heatindex_c\\': 26.9, \\'heatindex_f\\': 80.5, \\'dewpoint_c\\': 15.4, \\'dewpoint_f\\': 59.7, \\'vis_km\\': 2.5, \\'vis_miles\\': 1.0, \\'uv\\': 8.0, \\'gust_mph\\': 14.5, \\'gust_kph\\': 23.3}}\"}, {\"url\": \"https://www.livehindustan.com/weather/mumbai-me-aaj-ka-mausam-3-february-2025-mumbai-aqi-today-and-weather-forecast-imd-rain-alert-update-in-hindi-201738546405784.html\", \"content\": \"Mumbai Weather 3 February 2025: मुंबई में आज बादल छाए रहने की संभावना है। अधिकतम तापमान 26.12 और न्यूनतम तापमान 22.99 डिग्री सेल्सियस रहने की उम्मीद है। आर्द्रता 49% दर्ज की गई है\"}]', name='tavily_search_results_json', id='027bc139-47ad-49a7-8185-51d9d7b0952c', tool_call_id='call_hrd2', artifact={'query': 'weather in mumbai', 'follow_up_questions': None, 'answer': None, 'images': [], 'results': [{'title': 'Weather in mumbai', 'url': 'https://www.weatherapi.com/', 'content': \"{'location': {'name': 'Mumbai', 'region': 'Maharashtra', 'country': 'India', 'lat': 18.975, 'lon': 72.826, 'tz_id': 'Asia/Kolkata', 'localtime_epoch': 1738565703, 'localtime': '2025-02-03 12:25'}, 'current': {'last_updated_epoch': 1738565100, 'last_updated': '2025-02-03 12:15', 'temp_c': 28.0, 'temp_f': 82.4, 'is_day': 1, 'condition': {'text': 'Overcast', 'icon': '//cdn.weatherapi.com/weather/64x64/day/122.png', 'code': 1009}, 'wind_mph': 10.5, 'wind_kph': 16.9, 'wind_degree': 316, 'wind_dir': 'NW', 'pressure_mb': 1013.0, 'pressure_in': 29.91, 'precip_mm': 0.0, 'precip_in': 0.0, 'humidity': 37, 'cloud': 0, 'feelslike_c': 28.9, 'feelslike_f': 83.9, 'windchill_c': 26.3, 'windchill_f': 79.3, 'heatindex_c': 26.9, 'heatindex_f': 80.5, 'dewpoint_c': 15.4, 'dewpoint_f': 59.7, 'vis_km': 2.5, 'vis_miles': 1.0, 'uv': 8.0, 'gust_mph': 14.5, 'gust_kph': 23.3}}\", 'score': 0.9894107, 'raw_content': None}, {'title': 'Mumbai Weather Today 3 February 2025 - Hindustan', 'url': 'https://www.livehindustan.com/weather/mumbai-me-aaj-ka-mausam-3-february-2025-mumbai-aqi-today-and-weather-forecast-imd-rain-alert-update-in-hindi-201738546405784.html', 'content': 'Mumbai Weather 3 February 2025: मुंबई में आज बादल छाए रहने की संभावना है। अधिकतम तापमान 26.12 और न्यूनतम तापमान 22.99 डिग्री सेल्सियस रहने की उम्मीद है। आर्द्रता 49% दर्ज की गई है', 'score': 0.95667076, 'raw_content': None}], 'response_time': 3.05})]}}\n",
      "----\n",
      "{'agent': {'messages': [AIMessage(content='The weather in Mumbai is overcast with a maximum temperature of 28.0 degrees Celsius (82.4 degrees Fahrenheit) and a minimum temperature of 22.99 degrees Celsius (73.38 degrees Fahrenheit). The humidity is at 37%.', additional_kwargs={}, response_metadata={'token_usage': {'completion_tokens': 69, 'prompt_tokens': 2080, 'total_tokens': 2149, 'completion_time': 0.10599417, 'prompt_time': 0.142085747, 'queue_time': 0.020484066999999995, 'total_time': 0.248079917}, 'model_name': 'mixtral-8x7b-32768', 'system_fingerprint': 'fp_c5f20b5bb1', 'finish_reason': 'stop', 'logprobs': None}, id='run-9232663f-1dc3-434b-998c-478ec8b058bd-0', usage_metadata={'input_tokens': 2080, 'output_tokens': 69, 'total_tokens': 2149})]}}\n",
      "----\n"
     ]
    }
   ],
   "source": [
    "def run_agent():\n",
    "    # Create the agent\n",
    "    agent = create_search_agent()\n",
    "    \n",
    "    # Configure thread for conversation memory\n",
    "    config = {\"configurable\": {\"thread_id\": \"conversation_1\"}}\n",
    "    \n",
    "    # Example interaction\n",
    "    messages = [\n",
    "        HumanMessage(content=\"what is the weather in mumbai\")\n",
    "    ]\n",
    "    \n",
    "    # Stream the response\n",
    "    for chunk in agent.stream({\"messages\": messages}, config):\n",
    "        print(chunk)\n",
    "        print(\"----\")\n",
    "\n",
    "run_agent()"
   ]
  },
  {
   "cell_type": "code",
   "execution_count": null,
   "metadata": {},
   "outputs": [],
   "source": []
  }
 ],
 "metadata": {
  "kernelspec": {
   "display_name": ".venv",
   "language": "python",
   "name": "python3"
  },
  "language_info": {
   "codemirror_mode": {
    "name": "ipython",
    "version": 3
   },
   "file_extension": ".py",
   "mimetype": "text/x-python",
   "name": "python",
   "nbconvert_exporter": "python",
   "pygments_lexer": "ipython3",
   "version": "3.12.3"
  }
 },
 "nbformat": 4,
 "nbformat_minor": 2
}
